{
 "cells": [
  {
   "cell_type": "code",
   "execution_count": 1,
   "metadata": {
    "collapsed": true
   },
   "outputs": [
    {
     "name": "stdout",
     "output_type": "stream",
     "text": [
      " README\t\t\t\t\t      sample_3415_routing_info.png\r\n",
      "'Tetam Account.txt'\t\t\t      sample_3647_routing_info.png\r\n",
      "'Work Plan.xlsx'\t\t\t      sample_386_routing_info.png\r\n",
      " __init__.py\t\t\t\t      sample_4095_routing_info.png\r\n",
      " algorithms\t\t\t\t      sample_4290_routing_info.png\r\n",
      " auxillary\t\t\t\t      sample_4350_routing_info.png\r\n",
      " bayesian_optimization_entry.py\t\t      sample_5022_routing_info.png\r\n",
      " cigt_logger.db\t\t\t\t      sample_6304_routing_info.png\r\n",
      " data\t\t\t\t\t      sample_7119_routing_info.png\r\n",
      " data_handling\t\t\t\t      sample_8746_routing_info.png\r\n",
      " db_creation_script.sql\t\t\t      simple_tf\r\n",
      " df\t\t\t\t\t      start.ipynb\r\n",
      " discretized_bayesian_optimization_entry.py   tetam_usps_bootstrap_query.sql\r\n",
      " egg_segmentation\t\t\t      tetam_usps_queries.txt\r\n",
      " github_token\t\t\t\t      tf_2_cign\r\n",
      " grid_search_entry.py\t\t\t      tf_experiments\r\n",
      " initializers\t\t\t\t      usps_baseline_queries.sql\r\n",
      " multipath_query.py\t\t\t      usps_bayesian_queries.sql\r\n",
      " object_detection\t\t\t      usps_queries.sql\r\n",
      " optimizers\r\n"
     ]
    }
   ],
   "source": [
    "!ls"
   ]
  },
  {
   "cell_type": "code",
   "execution_count": 2,
   "outputs": [
    {
     "name": "stderr",
     "output_type": "stream",
     "text": [
      "2022-05-06 03:42:47.481141: I tensorflow/stream_executor/cuda/cuda_gpu_executor.cc:1052] successful NUMA node read from SysFS had negative value (-1), but there must be at least one NUMA node, so returning NUMA node zero\n",
      "2022-05-06 03:42:47.562673: I tensorflow/stream_executor/cuda/cuda_gpu_executor.cc:1052] successful NUMA node read from SysFS had negative value (-1), but there must be at least one NUMA node, so returning NUMA node zero\n",
      "2022-05-06 03:42:47.563248: I tensorflow/stream_executor/cuda/cuda_gpu_executor.cc:1052] successful NUMA node read from SysFS had negative value (-1), but there must be at least one NUMA node, so returning NUMA node zero\n"
     ]
    },
    {
     "name": "stdout",
     "output_type": "stream",
     "text": [
      "[PhysicalDevice(name='/physical_device:GPU:0', device_type='GPU')]\n",
      "/job:localhost/replica:0/task:0/device:GPU:0\n"
     ]
    },
    {
     "name": "stderr",
     "output_type": "stream",
     "text": [
      "2022-05-06 03:42:47.567284: I tensorflow/stream_executor/cuda/cuda_gpu_executor.cc:1052] successful NUMA node read from SysFS had negative value (-1), but there must be at least one NUMA node, so returning NUMA node zero\n",
      "2022-05-06 03:42:47.567910: I tensorflow/stream_executor/cuda/cuda_gpu_executor.cc:1052] successful NUMA node read from SysFS had negative value (-1), but there must be at least one NUMA node, so returning NUMA node zero\n",
      "2022-05-06 03:42:47.568390: I tensorflow/stream_executor/cuda/cuda_gpu_executor.cc:1052] successful NUMA node read from SysFS had negative value (-1), but there must be at least one NUMA node, so returning NUMA node zero\n",
      "2022-05-06 03:42:50.022170: I tensorflow/stream_executor/cuda/cuda_gpu_executor.cc:1052] successful NUMA node read from SysFS had negative value (-1), but there must be at least one NUMA node, so returning NUMA node zero\n",
      "2022-05-06 03:42:50.022566: I tensorflow/stream_executor/cuda/cuda_gpu_executor.cc:1052] successful NUMA node read from SysFS had negative value (-1), but there must be at least one NUMA node, so returning NUMA node zero\n",
      "2022-05-06 03:42:50.022886: I tensorflow/stream_executor/cuda/cuda_gpu_executor.cc:1052] successful NUMA node read from SysFS had negative value (-1), but there must be at least one NUMA node, so returning NUMA node zero\n",
      "2022-05-06 03:42:50.023156: I tensorflow/core/common_runtime/gpu/gpu_device.cc:1525] Created device /job:localhost/replica:0/task:0/device:GPU:0 with 15382 MB memory:  -> device: 0, name: Quadro P5000, pci bus id: 0000:00:06.0, compute capability: 6.1\n"
     ]
    },
    {
     "data": {
      "text/plain": "'/notebooks'"
     },
     "execution_count": 2,
     "metadata": {},
     "output_type": "execute_result"
    }
   ],
   "source": [
    "import numpy as np\n",
    "import tensorflow as tf\n",
    "import os\n",
    "\n",
    "gpus = tf.config.list_physical_devices('GPU')\n",
    "tf.config.experimental.set_memory_growth(gpus[0], True)\n",
    "\n",
    "print(gpus)\n",
    "x = tf.zeros(shape=(5, 5))\n",
    "print(x.device)\n",
    "\n",
    "os.getcwd()"
   ],
   "metadata": {
    "collapsed": false,
    "pycharm": {
     "name": "#%%\n"
    }
   }
  },
  {
   "cell_type": "code",
   "execution_count": null,
   "outputs": [],
   "source": [],
   "metadata": {
    "collapsed": false,
    "pycharm": {
     "name": "#%%\n"
    }
   }
  }
 ],
 "metadata": {
  "kernelspec": {
   "display_name": "Python 3",
   "language": "python",
   "name": "python3"
  },
  "language_info": {
   "codemirror_mode": {
    "name": "ipython",
    "version": 2
   },
   "file_extension": ".py",
   "mimetype": "text/x-python",
   "name": "python",
   "nbconvert_exporter": "python",
   "pygments_lexer": "ipython2",
   "version": "2.7.6"
  }
 },
 "nbformat": 4,
 "nbformat_minor": 0
}